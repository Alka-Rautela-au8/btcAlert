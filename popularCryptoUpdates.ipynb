{
 "metadata": {
  "language_info": {
   "codemirror_mode": {
    "name": "ipython",
    "version": 3
   },
   "file_extension": ".py",
   "mimetype": "text/x-python",
   "name": "python",
   "nbconvert_exporter": "python",
   "pygments_lexer": "ipython3",
   "version": 3
  },
  "orig_nbformat": 2
 },
 "nbformat": 4,
 "nbformat_minor": 2,
 "cells": [
  {
   "cell_type": "code",
   "execution_count": null,
   "metadata": {},
   "outputs": [],
   "source": [
    "import requests\n",
    "\n",
    "popular_coins = ['BTCZ20', 'ETHZ20', 'YFIUSDT', 'YFIIUSDT', 'LINKUSDT']\n",
    "headers = {\n",
    "    'Accept': 'application/json'\n",
    "}\n",
    "\n",
    "\n",
    "def getDetails(popular_coins, coin_name):\n",
    "    all_coin_info = {}\n",
    "    for i in popular_coins:\n",
    "        if i != coin_name:\n",
    "            r = requests.get('https://www.bitfex.com/api/v1/public/spot_price', params={\n",
    "                'contract_symbol': i\n",
    "            }, headers=headers)\n",
    "            data = r.json()\n",
    "            all_coin_info[i] = data\n",
    "    return all_coin_info\n",
    "\n",
    "\n",
    "def popularCryptoUpdate(currentCoin, key, applet_name):\n",
    "    coin_dictionary = getDetails(popular_coins, currentCoin)\n",
    "    dataToBePrinted = ''\n",
    "    for i in coin_dictionary.keys():\n",
    "        name = i\n",
    "        price = f\"${coin_dictionary[i]['spot_price']}\"\n",
    "\n",
    "        print(f'{name} --> {price}')\n",
    "\n",
    "        dataToBePrinted += name + \" --> \" + price + '<br>'\n",
    "    url = f'https://maker.ifttt.com/trigger/{applet_name}/with/key/{key}'\n",
    "    data = {\n",
    "        'value1': dataToBePrinted\n",
    "    }\n",
    "    r = requests.post(url=url, data=data)\n"
   ]
  }
 ]
}