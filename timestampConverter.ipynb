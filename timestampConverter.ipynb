{
 "metadata": {
  "language_info": {
   "codemirror_mode": {
    "name": "ipython",
    "version": 3
   },
   "file_extension": ".py",
   "mimetype": "text/x-python",
   "name": "python",
   "nbconvert_exporter": "python",
   "pygments_lexer": "ipython3",
   "version": 3
  },
  "orig_nbformat": 2
 },
 "nbformat": 4,
 "nbformat_minor": 2,
 "cells": [
  {
   "cell_type": "code",
   "execution_count": null,
   "metadata": {},
   "outputs": [],
   "source": [
    " import datetime\n",
    "\n",
    "\n",
    "def convertTime(epoch):\n",
    "    l = len(epoch)\n",
    "    new_timestamp = epoch\n",
    "    if l > 10:\n",
    "        new_timestamp = epoch[: 10] + '.'\n",
    "        i = 10\n",
    "        while i < l:\n",
    "            new_timestamp += epoch[i]\n",
    "            i += 1\n",
    "    converted_time = datetime.datetime.fromtimestamp(\n",
    "        float(new_timestamp)).strftime('%Y-%m-%d %H:%M:%S')\n",
    "    return converted_time\n"
   ]
  }
 ]
}